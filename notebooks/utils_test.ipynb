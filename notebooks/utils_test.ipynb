{
 "cells": [
  {
   "cell_type": "code",
   "execution_count": 1,
   "id": "sublime-sheet",
   "metadata": {},
   "outputs": [],
   "source": [
    "import my_utils"
   ]
  },
  {
   "cell_type": "code",
   "execution_count": 2,
   "id": "faced-development",
   "metadata": {},
   "outputs": [],
   "source": [
    "filename = r\"datasets\\Wonderland.txt\"\n",
    "raw_text = open(filename, \"r\", encoding=\"utf-8\").read()\n",
    "raw_text = raw_text.lower()"
   ]
  },
  {
   "cell_type": "code",
   "execution_count": 3,
   "id": "polyphonic-calvin",
   "metadata": {},
   "outputs": [],
   "source": [
    "# stop_set = {'!', '(', ')', '*', ',', ';', ':'}"
   ]
  },
  {
   "cell_type": "code",
   "execution_count": 4,
   "id": "assumed-astrology",
   "metadata": {},
   "outputs": [],
   "source": [
    "char_to_int = my_utils.get_char_dict(raw_text)"
   ]
  },
  {
   "cell_type": "code",
   "execution_count": 5,
   "id": "periodic-learning",
   "metadata": {},
   "outputs": [],
   "source": [
    "n_chars = len(raw_text)\n",
    "n_vocab = len(char_to_int)\n",
    "\n",
    "print(f\"len of text: {n_chars}\")\n",
    "print(f\"ttl characters {n_vocab}\")"
   ]
  },
  {
   "cell_type": "code",
   "execution_count": 7,
   "id": "bottom-boutique",
   "metadata": {},
   "outputs": [],
   "source": [
    "data_X, data_y = my_utils.text_encode(raw_text, char_to_int) "
   ]
  },
  {
   "cell_type": "code",
   "execution_count": 8,
   "id": "portable-traveler",
   "metadata": {},
   "outputs": [],
   "source": [
    "int_to_char = my_utils.get_int_dict(raw_text)"
   ]
  },
  {
   "cell_type": "code",
   "execution_count": 9,
   "id": "cheap-german",
   "metadata": {},
   "outputs": [],
   "source": [
    "res = \"\".join([int_to_char[i] for i in data_X[0]])"
   ]
  },
  {
   "cell_type": "code",
   "execution_count": null,
   "id": "streaming-press",
   "metadata": {},
   "outputs": [],
   "source": []
  }
 ],
 "metadata": {
  "kernelspec": {
   "display_name": "lstm_venv",
   "language": "python",
   "name": "lstm_venv"
  },
  "language_info": {
   "codemirror_mode": {
    "name": "ipython",
    "version": 3
   },
   "file_extension": ".py",
   "mimetype": "text/x-python",
   "name": "python",
   "nbconvert_exporter": "python",
   "pygments_lexer": "ipython3",
   "version": "3.8.8"
  }
 },
 "nbformat": 4,
 "nbformat_minor": 5
}
