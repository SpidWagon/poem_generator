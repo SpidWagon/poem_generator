{
 "cells": [
  {
   "cell_type": "code",
   "execution_count": 1,
   "id": "macro-invalid",
   "metadata": {},
   "outputs": [],
   "source": [
    "import time \n",
    "import os \n",
    "import requests\n",
    "\n",
    "import pandas as pd\n",
    "\n",
    "from bs4 import BeautifulSoup\n",
    "from tqdm import tqdm"
   ]
  },
  {
   "cell_type": "code",
   "execution_count": 3,
   "id": "utility-surprise",
   "metadata": {},
   "outputs": [
    {
     "name": "stderr",
     "output_type": "stream",
     "text": [
      "C:\\Users\\chich\\Anaconda3\\envs\\lstm_venv\\lib\\site-packages\\urllib3\\connectionpool.py:1013: InsecureRequestWarning: Unverified HTTPS request is being made to host 'slova.org.ru'. Adding certificate verification is strongly advised. See: https://urllib3.readthedocs.io/en/latest/advanced-usage.html#ssl-warnings\n",
      "  warnings.warn(\n"
     ]
    }
   ],
   "source": [
    "# start_page = 'https://slova.org.ru/serebryanyj-vek/akmeizm/'\n",
    "# main_page='https://slova.org.ru'\n",
    "\n",
    "# authors_links = get_authors(main_page)"
   ]
  },
  {
   "cell_type": "code",
   "execution_count": 4,
   "id": "extended-expense",
   "metadata": {},
   "outputs": [
    {
     "data": {
      "text/plain": [
       "252"
      ]
     },
     "execution_count": 4,
     "metadata": {},
     "output_type": "execute_result"
    }
   ],
   "source": [
    "len(authors_links)"
   ]
  },
  {
   "cell_type": "code",
   "execution_count": 5,
   "id": "incident-jerusalem",
   "metadata": {},
   "outputs": [
    {
     "name": "stderr",
     "output_type": "stream",
     "text": [
      "100%|████████████████████████████████████████████████████████████████████████████████| 252/252 [01:04<00:00,  3.92it/s]"
     ]
    },
    {
     "name": "stdout",
     "output_type": "stream",
     "text": [
      "Elapsed time 64.2683929 seconds\n"
     ]
    },
    {
     "name": "stderr",
     "output_type": "stream",
     "text": [
      "\n"
     ]
    }
   ],
   "source": [
    "start_time = time.perf_counter()\n",
    "\n",
    "\n",
    "poem_link_list = []\n",
    "for link in tqdm(authors_links):\n",
    "    poem_link_list.extend(get_poem_links(link))\n",
    "    \n",
    "print(f'Elapsed time {time.perf_counter() - start_time} seconds')\n",
    "\n",
    "start_time = time.perf_counter()\n",
    "\n",
    "data_dict = {}\n",
    "for idx, link in enumerate(tqdm(poem_link_list)):\n",
    "    data_dict[idx] = get_sample_data(link)\n",
    "    \n",
    "print(time.perf_counter() - start_time, 'seconds')"
   ]
  },
  {
   "cell_type": "code",
   "execution_count": null,
   "id": "registered-content",
   "metadata": {},
   "outputs": [],
   "source": []
  }
 ],
 "metadata": {
  "kernelspec": {
   "display_name": "lstm_venv",
   "language": "python",
   "name": "lstm_venv"
  },
  "language_info": {
   "codemirror_mode": {
    "name": "ipython",
    "version": 3
   },
   "file_extension": ".py",
   "mimetype": "text/x-python",
   "name": "python",
   "nbconvert_exporter": "python",
   "pygments_lexer": "ipython3",
   "version": "3.8.8"
  }
 },
 "nbformat": 4,
 "nbformat_minor": 5
}
